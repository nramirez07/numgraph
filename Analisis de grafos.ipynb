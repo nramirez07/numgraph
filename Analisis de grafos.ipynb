{
 "cells": [
  {
   "cell_type": "code",
   "execution_count": 1,
   "id": "postal-hunter",
   "metadata": {},
   "outputs": [],
   "source": [
    "import numpy as np\n",
    "import matplotlib.pyplot as plt\n",
    "from numba import jit, prange\n",
    "from time import time"
   ]
  },
  {
   "cell_type": "code",
   "execution_count": 2,
   "id": "dress-jonathan",
   "metadata": {},
   "outputs": [],
   "source": [
    "import networkx as nx\n",
    "import graph_tool.all as gt"
   ]
  },
  {
   "cell_type": "code",
   "execution_count": 3,
   "id": "72dac9fa",
   "metadata": {},
   "outputs": [],
   "source": [
    "from numba import set_num_threads, get_num_threads"
   ]
  },
  {
   "cell_type": "code",
   "execution_count": 90,
   "id": "adaad47c",
   "metadata": {},
   "outputs": [],
   "source": [
    "@jit(nopython=True, parallel=False)\n",
    "def own_parallel_triangle_comp(A):\n",
    "    triangles = np.zeros(shape=(A.shape[0], A.shape[1]), dtype=np.int16)\n",
    "    A = np.asarray(A, dtype=np.int16)\n",
    "    for i in range(A.shape[0]):\n",
    "        for j in prange(A.shape[1]):\n",
    "            triangles[i,j] += np.sum(A[i,:] * A[:,j]) * A[i,j]\n",
    "    return np.sum(triangles, axis=1)/2"
   ]
  },
  {
   "cell_type": "code",
   "execution_count": 5,
   "id": "d712cb6f",
   "metadata": {},
   "outputs": [],
   "source": [
    "@jit(nopython=True)\n",
    "def parallel_global_clustering_coef(A):\n",
    "    t = own_parallel_triangle_comp(A)\n",
    "    d = node_degree_parallel(A)\n",
    "    clustering = np.zeros(shape=t.shape[0])\n",
    "    mask = t !=0\n",
    "    clustering = t[mask] / ((d[mask] * (d[mask] - 1)))\n",
    "    \n",
    "    sum_k = np.sum(d*(d-1))\n",
    "    \n",
    "    #print (2*clustering)\n",
    "    return 2*np.sum(clustering)/mask.shape[0]#np.sum(mask) # np.sum((3*triangles/(0.5*sum_k)))"
   ]
  },
  {
   "cell_type": "code",
   "execution_count": 6,
   "id": "881bc70f",
   "metadata": {},
   "outputs": [],
   "source": [
    "@jit(nopython=True, parallel=True)\n",
    "def avg_node_degree_parallel(A):\n",
    "    # it assumes matrix A is correct (no validation)\n",
    "    degree = np.zeros(shape=len(A))\n",
    "    for i in prange(len(A)):\n",
    "        degree[i] = np.sum(A[i])\n",
    "    return np.mean(degree)"
   ]
  },
  {
   "cell_type": "code",
   "execution_count": 7,
   "id": "0e7f9f85",
   "metadata": {},
   "outputs": [],
   "source": [
    "@jit(nopython=True, parallel=True, cache=True)\n",
    "def node_degree_parallel(A):\n",
    "    # it assumes matrix A is correct (no validation)\n",
    "    degree = np.zeros(shape=len(A))\n",
    "    for i in prange(len(A)):\n",
    "        degree[i] = np.sum(A[i])\n",
    "    return degree"
   ]
  },
  {
   "cell_type": "code",
   "execution_count": 59,
   "id": "signed-specification",
   "metadata": {},
   "outputs": [],
   "source": [
    "@jit(nopython=True, cache=True)\n",
    "def node_degree_njit(A):\n",
    "    # it assumes matrix A is correct (no validation)\n",
    "    degree = np.zeros(shape=len(A))\n",
    "    for i in range(len(A)):\n",
    "        degree[i] = np.sum(A[i])\n",
    "    return degree"
   ]
  },
  {
   "cell_type": "code",
   "execution_count": 9,
   "id": "sunset-button",
   "metadata": {},
   "outputs": [],
   "source": [
    "def avg_node_degree_py(A):\n",
    "    # it assumes matrix A is correct (no validation)\n",
    "    degree = [ 0 for i in range(len(A)) ]\n",
    "    for i in range(len(A)):\n",
    "        degree[i] = sum(A[i])\n",
    "    return sum(degree)/float(len(degree))\n",
    "\n",
    "@jit(nopython=True)\n",
    "def avg_node_degree_njit(A):\n",
    "    # it assumes matrix A is correct (no validation)\n",
    "    degree = np.zeros(shape=len(A))\n",
    "    for i in range(len(A)):\n",
    "        degree[i] = np.sum(A[i])\n",
    "    return np.mean(degree)\n",
    "\n",
    "@jit(nopython=True, parallel=True)\n",
    "def avg_node_degree_parallel(A):\n",
    "    # it assumes matrix A is correct (no validation)\n",
    "    degree = np.zeros(shape=len(A))\n",
    "    for i in prange(len(A)):\n",
    "        degree[i] = np.sum(A[i])\n",
    "    return np.mean(degree)"
   ]
  },
  {
   "cell_type": "code",
   "execution_count": 10,
   "id": "floral-photography",
   "metadata": {},
   "outputs": [],
   "source": [
    "@jit(nopython=True)\n",
    "def get_index_pairs(N):\n",
    "    E = np.zeros(shape=((N*(N-1))//2, 2), dtype=np.int32)\n",
    "    c = 0\n",
    "    for i in range(N):\n",
    "        for j in range(i+1, N):\n",
    "            E[c,0] = i\n",
    "            E[c,1] = j\n",
    "            c += 1\n",
    "    return E"
   ]
  },
  {
   "cell_type": "code",
   "execution_count": 11,
   "id": "orange-latitude",
   "metadata": {},
   "outputs": [],
   "source": [
    "@jit(nopython=True)\n",
    "def get_num_triangles_njit(A):\n",
    "    N = A.shape[0]\n",
    "    num_triangles = 0\n",
    "    for i in range(N):\n",
    "        for j in range(i+1, N):\n",
    "            print (A[i,j], A[j,i])\n",
    "            if (A[i,j] > 0 and A[i,j] == A[j,i]): # are n_i and n_j connected?\n",
    "                #print (\"i=%i j=%i sum=%i\" % (i,j,np.sum(A[i,:] & A[j,:])))\n",
    "                num_triangles += np.sum(A[i,:] & A[j,:])\n",
    "    return num_triangles//3"
   ]
  },
  {
   "cell_type": "code",
   "execution_count": 12,
   "id": "honey-citizenship",
   "metadata": {},
   "outputs": [],
   "source": [
    "@jit(nopython=True, parallel=True)\n",
    "def get_num_triangles_parallel(A, e_pairs):\n",
    "    N = A.shape[0]\n",
    "    num_triangles = 0\n",
    "    inter = np.zeros(shape=len(e_pairs), dtype=np.int32)\n",
    "    \n",
    "    for i_pair in prange(len(e_pairs)):\n",
    "        i = e_pairs[i_pair, 0]\n",
    "        j = e_pairs[i_pair, 1]\n",
    "        if ((A[i,j]) and (A[i,j] == A[j,i])):\n",
    "            inter[i_pair] = np.sum(A[i,:] & A[j,:])\n",
    "            \n",
    "    return np.sum(inter)//3"
   ]
  },
  {
   "cell_type": "code",
   "execution_count": 13,
   "id": "involved-front",
   "metadata": {},
   "outputs": [],
   "source": [
    "@jit(nopython=True)\n",
    "def get_triangles_per_node(A):\n",
    "    N = A.shape[0]\n",
    "    #triangles_per_node = np.zeros(shape=N, dtype=np.int32)\n",
    "    #num_triangles = 0\n",
    "    \n",
    "    triangles = np.zeros(shape=N, dtype=np.int16)\n",
    "    for i in range(N):\n",
    "        for j in range(A.shape[1]):\n",
    "            triangles[i] += np.sum(A[i,:] * A[:,j]) * A[i,j]\n",
    "    return triangles/2\n",
    "    \n",
    "    #for i in range(N):\n",
    "    #    triangles_per_node\n",
    "    #    for j in range(N):\n",
    "    #        if i!=j:\n",
    "    #            triangles_per_node[i] += np.sum(A[i,:] & A[j,:])\n",
    "    \n",
    "    # for i_pair in prange(len(e_pairs)):\n",
    "    #     i = e_pairs[i_pair, 0]\n",
    "    #     j = e_pairs[i_pair, 1]\n",
    "    #     if ((A[i,j]) and (A[i,j] == A[j,i])):\n",
    "    #         inter[i_pair] = np.sum(A[i,:] & A[j,:])\n",
    "            \n",
    "    #return triangles_per_node"
   ]
  },
  {
   "cell_type": "code",
   "execution_count": 14,
   "id": "latin-flash",
   "metadata": {},
   "outputs": [],
   "source": [
    "def avg_node_degree(A, rep=10):\n",
    "    l_comptime_py       = np.zeros(shape=rep)\n",
    "    l_comptime_njit     = np.zeros(shape=rep)\n",
    "    l_comptime_parallel = np.zeros(shape=rep)\n",
    "    for i in range(rep):\n",
    "        t = time()\n",
    "        mat_avg_node_degree_py = avg_node_degree_py(A)\n",
    "        t = time() - t\n",
    "        l_comptime_py[i] = t\n",
    "        \n",
    "        t = time()\n",
    "        mat_avg_node_degree_njit = avg_node_degree_njit(A)\n",
    "        t = time() - t\n",
    "        l_comptime_njit[i] = t\n",
    "        \n",
    "        t = time()\n",
    "        mat_avg_node_degree_parallel = avg_node_degree_parallel(A)\n",
    "        t = time() - t\n",
    "        l_comptime_parallel[i] = t\n",
    "    \n",
    "    results = {\n",
    "        \"comptimes\" : [\n",
    "            l_comptime_py, l_comptime_njit, l_comptime_parallel\n",
    "        ],\n",
    "        \"out\" : [\n",
    "            mat_avg_node_degree_py, mat_avg_node_degree_njit, mat_avg_node_degree_parallel\n",
    "        ]\n",
    "        \n",
    "    }\n",
    "    return results"
   ]
  },
  {
   "cell_type": "code",
   "execution_count": 15,
   "id": "equal-election",
   "metadata": {},
   "outputs": [],
   "source": [
    "def from_edges_get_adj_matrix(edges):\n",
    "    N = np.max(edges)+1\n",
    "    A = np.zeros(shape=(N,N), dtype=np.bool)\n",
    "    \n",
    "    for i_e in range(len(edges)):\n",
    "        i = edges[i_e][0]\n",
    "        j = edges[i_e][1]\n",
    "        A[i,j] += 1\n",
    "        A[j,i] = A[i,j]\n",
    "    return A\n",
    "        "
   ]
  },
  {
   "cell_type": "code",
   "execution_count": 16,
   "id": "fourth-mortgage",
   "metadata": {},
   "outputs": [],
   "source": [
    "@jit(nopython=True, parallel=True)\n",
    "def get_triangles_parallel(A, e_pairs):\n",
    "    N = A.shape[0]\n",
    "    inter = np.ones(shape=len(e_pairs), dtype=np.int32)\n",
    "    \n",
    "    for i_pair in prange(len(e_pairs)):\n",
    "        i = e_pairs[i_pair, 0]\n",
    "        j = e_pairs[i_pair, 1]\n",
    "        if ((A[i,j]) and (A[i,j] == A[j,i])):\n",
    "            inter[i_pair] = np.sum(A[i,:] & A[j,:])\n",
    "            \n",
    "    return inter//3"
   ]
  },
  {
   "cell_type": "code",
   "execution_count": 17,
   "id": "mineral-playback",
   "metadata": {},
   "outputs": [],
   "source": [
    "def global_clustering_coef(A):\n",
    "    t = get_triangles_per_node(A)\n",
    "    d = node_degree_njit(A)\n",
    "    clustering = np.zeros(shape=t.shape[0])\n",
    "    mask = t !=0\n",
    "    clustering = t[mask] / ((d[mask] * (d[mask] - 1)))\n",
    "    \n",
    "    #e_pairs = get_index_pairs(A.shape[0])\n",
    "    #triangles = get_triangles_parallel(A, e_pairs) \n",
    "    ##print (\"triangles\", t)\n",
    "    ##print (\"degree   \", d)\n",
    "    #k = k[k>1]\n",
    "    #k[k<2] = 0\n",
    "    sum_k = np.sum(d*(d-1))\n",
    "    ###print (\"?        \", np.sum(t/(2*d*(d-1))))\n",
    "    ##print (\"k        \", np.sum(t/sum_k))\n",
    "    ##print (\"test\", np.sum(2*d/sum_k))\n",
    "    ##print (\"sum\", sum_k)\n",
    "    #print (2*clustering)\n",
    "    return 2*np.sum(clustering)/mask.shape[0]#np.sum(mask) # np.sum((3*triangles/(0.5*sum_k)))"
   ]
  },
  {
   "cell_type": "markdown",
   "id": "internal-cancellation",
   "metadata": {},
   "source": [
    "$\\bar{C} = \\frac{1}{N} \\frac{3 \\lambda_G}{\\frac{1}{2} k_i(k_i-1)} = \\frac{6 \\lambda_G}{N k_i(k_i-1)}$"
   ]
  },
  {
   "cell_type": "code",
   "execution_count": 18,
   "id": "handled-productivity",
   "metadata": {},
   "outputs": [],
   "source": [
    "def own_triangle_comp(A):\n",
    "    triangles = np.zeros(shape=A.shape[0], dtype=np.int16)\n",
    "    A = np.asarray(A, dtype=np.int16)\n",
    "    for i in range(A.shape[0]):\n",
    "        for j in range(A.shape[1]):\n",
    "            triangles[i] += np.sum(A[i,:] * A[:,j]) * A[i,j]\n",
    "    return triangles/2"
   ]
  },
  {
   "cell_type": "code",
   "execution_count": 19,
   "id": "distant-contract",
   "metadata": {},
   "outputs": [],
   "source": [
    "def plot_avg_node_degree():\n",
    "    l_mean = [ np.mean(res_avg_node_degree['comptimes'][i]/res_avg_node_degree['comptimes'][-1]) for i in range(2)]\n",
    "    l_std = [ np.std(res_avg_node_degree['comptimes'][i]/res_avg_node_degree['comptimes'][-1]) for i in range(2)]\n",
    "    #plt.plot(list(range(3)), l_mean)\n",
    "    #plt.plot(list(range(3)), l_std)\n",
    "    plt.errorbar(list(range(2)), l_mean, yerr=l_std ) #uplims=True, label='uplims=True\n",
    "    "
   ]
  },
  {
   "cell_type": "markdown",
   "id": "designed-party",
   "metadata": {},
   "source": [
    "-----\n",
    "\n",
    "## Example: Karate Club"
   ]
  },
  {
   "cell_type": "code",
   "execution_count": 20,
   "id": "smooth-balloon",
   "metadata": {},
   "outputs": [],
   "source": [
    "edges = np.array([[2,1],[3,1],[3,2],[4,1],[4,2],[4,3],[5,1],[6,1],[7,1],[7,5],[7,6],[8,1],[8,2],[8,3],[8,4],[9,1],[9,3],[10,3],[11,1],[11,5],[11,6],[12,1],[13,1],[13,4],[14,1],[14,2],[14,3],[14,4],[17,6],[17,7],[18,1],[18,2],[20,1],[20,2],[22,1],[22,2],[26,24],[26,25],[28,3],[28,24],[28,25],[29,3],[30,24],[30,27],[31,2],[31,9],[32,1],[32,25],[32,26],[32,29],[33,3],[33,9],[33,15],[33,16],[33,19],[33,21],[33,23],[33,24],[33,30],[33,31],[33,32],[34,9],[34,10],[34,14],[34,15],[34,16],[34,19],[34,20],[34,21],[34,23],[34,24],[34,27],[34,28],[34,29],[34,30],[34,31],[34,32],[34,33]])\n",
    "edges -= 1"
   ]
  },
  {
   "cell_type": "code",
   "execution_count": 21,
   "id": "preliminary-export",
   "metadata": {},
   "outputs": [
    {
     "name": "stderr",
     "output_type": "stream",
     "text": [
      "/tmp/ipykernel_19988/2687033960.py:3: DeprecationWarning: `np.bool` is a deprecated alias for the builtin `bool`. To silence this warning, use `bool` by itself. Doing this will not modify any behavior and is safe. If you specifically wanted the numpy scalar type, use `np.bool_` here.\n",
      "Deprecated in NumPy 1.20; for more details and guidance: https://numpy.org/devdocs/release/1.20.0-notes.html#deprecations\n",
      "  A = np.zeros(shape=(N,N), dtype=np.bool)\n"
     ]
    },
    {
     "data": {
      "text/plain": [
       "(34, 34)"
      ]
     },
     "execution_count": 21,
     "metadata": {},
     "output_type": "execute_result"
    }
   ],
   "source": [
    "A_karate = from_edges_get_adj_matrix(edges)\n",
    "A_karate.shape"
   ]
  },
  {
   "cell_type": "code",
   "execution_count": null,
   "id": "motivated-television",
   "metadata": {},
   "outputs": [],
   "source": []
  },
  {
   "cell_type": "code",
   "execution_count": 22,
   "id": "mediterranean-milan",
   "metadata": {},
   "outputs": [
    {
     "data": {
      "image/png": "[encoded data removed]",
      "text/plain": [
       "<Figure size 288x288 with 1 Axes>"
      ]
     },
     "metadata": {},
     "output_type": "display_data"
    }
   ],
   "source": [
    "#plt.figure(figsize=(4,4), facecolor='w'); \n",
    "f, ax = plt.subplots(figsize=(4,4), facecolor='w')\n",
    "im = ax.imshow(A_karate, cmap='Greys_r'); \n",
    "ax.set_xlabel(\"$ID\\ Nodo$\", fontsize=14)\n",
    "ax.set_ylabel(\"$ID\\ Nodo$\", fontsize=14)\n",
    "ax.set_xticks(np.arange(0, A_karate.shape[0], 4))\n",
    "ax.set_yticks(np.arange(0, A_karate.shape[0], 4))\n",
    "ax.set_title(\"(b) Matriz de adyacencia\\n\", fontsize=15)\n",
    "plt.savefig(\"figs/adj_karate.pdf\")"
   ]
  },
  {
   "cell_type": "markdown",
   "id": "expensive-tournament",
   "metadata": {},
   "source": [
    "**Calculos**"
   ]
  },
  {
   "cell_type": "code",
   "execution_count": 23,
   "id": "silver-shelf",
   "metadata": {},
   "outputs": [],
   "source": [
    "rep = 100 # num repetitions"
   ]
  },
  {
   "cell_type": "code",
   "execution_count": 24,
   "id": "higher-albuquerque",
   "metadata": {},
   "outputs": [],
   "source": [
    "def get_times(A, f_degree, f_tri, f_clust, rep=10):\n",
    "    # OWN \n",
    "\n",
    "    times_own_degree = np.zeros(shape=rep)\n",
    "    times_own_triang = np.zeros(shape=rep)\n",
    "    times_own_clust  = np.zeros(shape=rep)\n",
    "    res_own_degree = None\n",
    "    res_own_triang = None\n",
    "    res_own_clust  = None\n",
    "    for i in range(rep):\n",
    "        # degree\n",
    "        t = time()\n",
    "        res_own_degree = f_degree(A)\n",
    "        t = time()-t\n",
    "        times_own_degree[i] = t\n",
    "\n",
    "        # triangles\n",
    "        A = np.asarray(A, dtype=np.int16)\n",
    "        t = time()\n",
    "        res_own_triang = f_tri(A)\n",
    "        t = time()-t\n",
    "        times_own_triang[i] = t\n",
    "\n",
    "        # clustering\n",
    "        t = time()\n",
    "        res_own_clust = f_clust(A)\n",
    "        t = time()-t\n",
    "        times_own_clust[i] = t\n",
    "    \n",
    "    summary = {\n",
    "        \"times\" : { \"d\" : times_own_degree, \"t\" : times_own_triang, \"c\" : times_own_clust },\n",
    "        \"results\" : { \"d\" : res_own_degree, \"t\" : res_own_triang, \"c\" : res_own_clust}\n",
    "    }\n",
    "    return summary"
   ]
  },
  {
   "cell_type": "code",
   "execution_count": 91,
   "id": "adc8a419",
   "metadata": {},
   "outputs": [],
   "source": [
    "@jit(nopython=True)\n",
    "def mult_mat(A, B):\n",
    "    R = np.zeros(shape=(A.shape[0], A.shape[1]))\n",
    "    for i in range(A.shape[0]):\n",
    "        for j in range(A.shape[0]):\n",
    "            for k in range(A.shape[0]):\n",
    "                R[i,j] += A[i, k]*B[k,j]\n",
    "    return R"
   ]
  },
  {
   "cell_type": "code",
   "execution_count": 170,
   "id": "enhanced-station",
   "metadata": {},
   "outputs": [],
   "source": [
    "### NX ###\n",
    "def nx_average_degrees(G):\n",
    "    degree = 0\n",
    "    for x in range(len(G)):\n",
    "        degree = degree + G.degree(x)\n",
    "    summary = degree / len(G)\n",
    "    return int(summary)\n",
    "\n",
    "def nx_degrees(G):\n",
    "    degree = np.zeros(shape=len(G))\n",
    "    for i in range(len(G)):\n",
    "        degree[i] = G.degree(i)\n",
    "    #summary = degree / len(G)\n",
    "    return degree\n",
    "\n",
    "def nx_triangles_graph(G):\n",
    "    c = 0\n",
    "    add = 0\n",
    "    summary = 0\n",
    "    for c in range(len(G)):\n",
    "        add = add + nx.triangles(G,c)\n",
    "        #print(nx.triangles(G,c))\n",
    "    summary = add / 3\n",
    "    return int(summary)\n",
    "\n",
    "def nx_clustering_media(G):\n",
    "    clustering = 0\n",
    "    for x in range(len(G)):\n",
    "        clustering = clustering + nx.clustering(G,x)\n",
    "    summary = clustering / len(G)\n",
    "    return summary\n",
    "\n",
    "### GT ###\n",
    "def gt_average_degrees(g):\n",
    "    degree = 0\n",
    "    list_degrees = g.get_total_degrees(g.get_vertices())\n",
    "    for x in range(len(list_degrees)):\n",
    "        degree = degree + list_degrees[x]\n",
    "    summary = degree / len(list_degrees)\n",
    "    return int(summary)   \n",
    "\n",
    "def gt_triangles_graph(g):\n",
    "    A = gt.adjacency(g).toarray()\n",
    "    A_mult = mult_mat(mult_mat(A, A), A) #A@A@A\n",
    "    #den = g.get_total_degrees(g.get_vertices())\n",
    "    #den = den*(den-1)\n",
    "    triang = np.diagonal(A_mult)/2 #/ den\n",
    "    return triang\n",
    "\n",
    "def gt_clustering_media(g, n):\n",
    "    A = gt.adjacency(g).toarray()\n",
    "    A_mult = A@A@A\n",
    "    den = g.get_total_degrees(g.get_vertices())\n",
    "    den = den*(den-1)\n",
    "    summary = (np.diagonal(A_mult))/(den)\n",
    "    #clustering = 0\n",
    "    #c = gt.local_clustering(g)\n",
    "    #for x in range(n):\n",
    "    #    clustering = clustering + c[x]\n",
    "    #summary = clustering / n\n",
    "    return summary\n",
    "\n",
    "def nx_create_graph(A):\n",
    "    G = nx.from_numpy_matrix(A)\n",
    "    return G\n",
    "\n",
    "def gt_create_graph(A):\n",
    "    G = gt.Graph()\n",
    "    G.add_edge_list(np.transpose(A.nonzero()))\n",
    "    return G"
   ]
  },
  {
   "cell_type": "code",
   "execution_count": 166,
   "id": "neither-continent",
   "metadata": {},
   "outputs": [],
   "source": [
    "def get_times_nx(A, rep=10):\n",
    "    times_own_degree = np.zeros(shape=rep)\n",
    "    times_own_triang = np.zeros(shape=rep)\n",
    "    times_own_clust  = np.zeros(shape=rep)\n",
    "    res_own_degree = None\n",
    "    res_own_triang = None\n",
    "    res_own_clust  = None\n",
    "    \n",
    "    G = nx_create_graph(A)\n",
    "\n",
    "    for i in range(rep):\n",
    "        # degree\n",
    "        t = time()\n",
    "        res_own_degree = nx_degrees(G)\n",
    "        t = time()-t\n",
    "        times_own_degree[i] = t\n",
    "\n",
    "        # triangles\n",
    "        t = time()\n",
    "        res_own_triang = nx_triangles_graph(G)\n",
    "        t = time()-t\n",
    "        times_own_triang[i] = t\n",
    "\n",
    "        # clustering\n",
    "        t = time()\n",
    "        res_own_clust = nx_clustering_media(G)\n",
    "        t = time()-t\n",
    "        times_own_clust[i] = t\n",
    "    \n",
    "    summary = {\n",
    "        \"times\" : { \"d\" : times_own_degree, \"t\" : times_own_triang, \"c\" : times_own_clust },\n",
    "        \"results\" : { \"d\" : res_own_degree, \"t\" : res_own_triang, \"c\" : res_own_clust}\n",
    "    }\n",
    "    return summary"
   ]
  },
  {
   "cell_type": "code",
   "execution_count": 184,
   "id": "standing-scientist",
   "metadata": {},
   "outputs": [],
   "source": [
    "def get_times_gt(A, rep=10):\n",
    "    times_own_degree = np.zeros(shape=rep)\n",
    "    times_own_triang = np.zeros(shape=rep)\n",
    "    times_own_clust  = np.zeros(shape=rep)\n",
    "    res_own_degree = None\n",
    "    res_own_triang = None\n",
    "    res_own_clust  = None\n",
    "        \n",
    "    g = gt_create_graph(A)\n",
    "\n",
    "    for i in range(rep):\n",
    "        # degree\n",
    "        t = time()\n",
    "        res_own_degree = gt_average_degrees(g)\n",
    "        #den = g.get_total_degrees(g.get_vertices())\n",
    "        #den = den*(den-1)\n",
    "        #summary = (np.diagonal(A_mult))/(den)\n",
    "        t = time()-t\n",
    "        times_own_degree[i] = t\n",
    "\n",
    "        # triangles\n",
    "        t = time()\n",
    "        res_own_triang = gt_triangles_graph(g)\n",
    "        #A = gt.adjacency(g).toarray()\n",
    "        #A_mult = A@A@A\n",
    "        t = time()-t\n",
    "        times_own_triang[i] = t\n",
    "\n",
    "        # clustering\n",
    "        n = gt.adjacency(g).toarray().shape[0]\n",
    "        t = time()\n",
    "        res_own_clust = gt_clustering_media(g, n)\n",
    "        t = time()-t\n",
    "        times_own_clust[i] = t\n",
    "    \n",
    "    summary = {\n",
    "        \"times\" : { \"d\" : times_own_degree, \"t\" : times_own_triang, \"c\" : times_own_clust },\n",
    "        \"results\" : { \"d\" : res_own_degree, \"t\" : res_own_triang, \"c\" : res_own_clust}\n",
    "    }\n",
    "    return summary"
   ]
  },
  {
   "cell_type": "code",
   "execution_count": 95,
   "id": "ahead-problem",
   "metadata": {},
   "outputs": [],
   "source": [
    "summary_own = get_times(\n",
    "    A=A_karate, \n",
    "    f_degree=node_degree_njit, \n",
    "    f_tri=get_triangles_per_node, \n",
    "    f_clust=node_degree_njit, rep=rep)"
   ]
  },
  {
   "cell_type": "code",
   "execution_count": 175,
   "id": "dated-iceland",
   "metadata": {},
   "outputs": [
    {
     "data": {
      "text/plain": [
       "{'times': {'d': array([1.57356262e-05, 1.66893005e-06, 7.15255737e-07, 9.53674316e-07,\n",
       "         9.53674316e-07, 9.53674316e-07, 9.53674316e-07, 1.19209290e-06,\n",
       "         9.53674316e-07, 9.53674316e-07, 7.15255737e-07, 7.15255737e-07,\n",
       "         9.53674316e-07, 9.53674316e-07, 9.53674316e-07]),\n",
       "  't': array([8.13007355e-05, 7.41481781e-05, 9.39369202e-05, 7.53402710e-05,\n",
       "         7.34329224e-05, 7.29560852e-05, 7.39097595e-05, 7.36713409e-05,\n",
       "         7.39097595e-05, 7.34329224e-05, 7.29560852e-05, 7.31945038e-05,\n",
       "         7.31945038e-05, 7.34329224e-05, 7.34329224e-05]),\n",
       "  'c': array([3.33786011e-06, 9.53674316e-07, 1.66893005e-06, 9.53674316e-07,\n",
       "         1.19209290e-06, 9.53674316e-07, 9.53674316e-07, 7.15255737e-07,\n",
       "         9.53674316e-07, 7.15255737e-07, 7.15255737e-07, 7.15255737e-07,\n",
       "         1.19209290e-06, 7.15255737e-07, 9.53674316e-07])},\n",
       " 'results': {'d': array([16.,  9., 10.,  6.,  3.,  4.,  4.,  4.,  5.,  2.,  3.,  1.,  2.,\n",
       "          5.,  2.,  2.,  2.,  2.,  2.,  3.,  2.,  2.,  2.,  5.,  3.,  3.,\n",
       "          2.,  4.,  3.,  4.,  4.,  6., 12., 17.]),\n",
       "  't': array([18., 12., 11., 10.,  2.,  3.,  3.,  6.,  5.,  0.,  2.,  0.,  1.,\n",
       "          6.,  1.,  1.,  1.,  1.,  1.,  1.,  1.,  1.,  1.,  4.,  1.,  1.,\n",
       "          1.,  1.,  1.,  4.,  3.,  3., 13., 15.]),\n",
       "  'c': array([16.,  9., 10.,  6.,  3.,  4.,  4.,  4.,  5.,  2.,  3.,  1.,  2.,\n",
       "          5.,  2.,  2.,  2.,  2.,  2.,  3.,  2.,  2.,  2.,  5.,  3.,  3.,\n",
       "          2.,  4.,  3.,  4.,  4.,  6., 12., 17.])}}"
      ]
     },
     "execution_count": 175,
     "metadata": {},
     "output_type": "execute_result"
    }
   ],
   "source": [
    "summary_own"
   ]
  },
  {
   "cell_type": "code",
   "execution_count": 97,
   "id": "domestic-arctic",
   "metadata": {},
   "outputs": [],
   "source": [
    "summary_nx = get_times_nx(A=A_karate, rep=rep)"
   ]
  },
  {
   "cell_type": "code",
   "execution_count": 98,
   "id": "dental-boundary",
   "metadata": {},
   "outputs": [],
   "source": [
    "summary_gt = get_times_gt(A=A_karate, rep=rep)"
   ]
  },
  {
   "cell_type": "code",
   "execution_count": 99,
   "id": "unable-philippines",
   "metadata": {},
   "outputs": [],
   "source": [
    "def plot_comp_times(summaries, method_names, own_summary, own_abbr):\n",
    "    f, ax = plt.subplots(figsize=(4,4), facecolor='w')\n",
    "    fs_label = 13\n",
    "    func_names = ['d(G)', 'tri(G)', 'C(G)']\n",
    "    for i in range(len(summaries)):\n",
    "        \n",
    "        l_tmp_mean = []; l_tmp_std = []; \n",
    "        for k in ['d', 't', 'c']:\n",
    "            tmp_mean = np.mean(summaries[i]['times'][k][1:] / own_summary['times'][k][1:])\n",
    "            tmp_std  = np.std(summaries[i]['times'][k][1:] / own_summary['times'][k][1:])\n",
    "            \n",
    "            l_tmp_mean.append( tmp_mean )\n",
    "            l_tmp_std.append( tmp_std )\n",
    "            print (\"metrica:\", k, \"mean\", tmp_mean, \"std\", tmp_std)\n",
    "        \n",
    "        \n",
    "        ax.errorbar(func_names, l_tmp_mean, yerr=l_tmp_std, marker='o', ls='--', label=\"$T_{%s} / T_{%s}$\" % (method_names[i], own_abbr))\n",
    "    ax.semilogy()\n",
    "    #ax.loglog()\n",
    "    ax.axhline(1, ls='--', color='k', alpha=0.3)\n",
    "    ax.set_xlabel(\"Funciones\", fontsize=fs_label)\n",
    "    ax.set_ylabel(\"Speed-up\", fontsize=fs_label)\n",
    "    plt.legend(frameon=False)\n",
    "    plt.savefig(\"figs/comp_times_karate.pdf\", bbox_inches='tight')"
   ]
  },
  {
   "cell_type": "code",
   "execution_count": 100,
   "id": "judicial-income",
   "metadata": {},
   "outputs": [],
   "source": [
    "#summary_own['times']['t']/summary_own['times']['t']"
   ]
  },
  {
   "cell_type": "code",
   "execution_count": 54,
   "id": "bound-shoot",
   "metadata": {},
   "outputs": [
    {
     "name": "stdout",
     "output_type": "stream",
     "text": [
      "metrica: d mean 15.670890725436182 std 5.021834509393424\n",
      "metrica: t mean 4.091982201191117 std 1.1130857480580219\n",
      "metrica: c mean 334.1157928491262 std 109.16077333023303\n",
      "metrica: d mean 26.017202326293244 std 24.6422768747154\n",
      "metrica: t mean 2.31559771190929 std 1.3861732516651737\n",
      "metrica: c mean 197.04793971460637 std 84.94412829602621\n"
     ]
    },
    {
     "data": {
      "image/png": "[encoded data removed]",
      "text/plain": [
       "<Figure size 288x288 with 1 Axes>"
      ]
     },
     "metadata": {},
     "output_type": "display_data"
    }
   ],
   "source": [
    "plot_comp_times(summaries=[summary_nx, summary_gt], method_names=['NX', 'GT'], own_summary=summary_own, own_abbr='own')#, measure_name=['d(G)'])"
   ]
  },
  {
   "cell_type": "code",
   "execution_count": null,
   "id": "reflected-phrase",
   "metadata": {},
   "outputs": [],
   "source": []
  },
  {
   "cell_type": "markdown",
   "id": "local-tribune",
   "metadata": {},
   "source": [
    "### Analisis de sensibilidad"
   ]
  },
  {
   "cell_type": "code",
   "execution_count": 35,
   "id": "essential-creature",
   "metadata": {},
   "outputs": [],
   "source": [
    "def generate_random_networks(num_nodes, num_edges):\n",
    "    num_nodes = int(num_nodes)\n",
    "    num_edges = int(num_edges)\n",
    "    A = np.zeros(shape=(num_nodes, num_nodes), dtype=np.bool)\n",
    "    E = np.random.randint(num_nodes, size=(num_edges, 2))\n",
    "    for i_e in range(num_edges):\n",
    "        while (E[i_e, 0] == E[i_e, 1]):\n",
    "            E[i_e, 0] = np.random.randint(num_nodes)\n",
    "            E[i_e, 1] = np.random.randint(num_nodes)\n",
    "        A[E[i_e, 0], E[i_e, 1]] = 1\n",
    "        A[E[i_e, 1], E[i_e, 0]] = 1\n",
    "    return A"
   ]
  },
  {
   "cell_type": "markdown",
   "id": "compatible-biography",
   "metadata": {},
   "source": [
    "**Informe:** indicar porque la matriz de adjacencia se usa como boolean."
   ]
  },
  {
   "cell_type": "code",
   "execution_count": 36,
   "id": "trained-cologne",
   "metadata": {},
   "outputs": [
    {
     "name": "stderr",
     "output_type": "stream",
     "text": [
      "/tmp/ipykernel_19988/968793958.py:4: DeprecationWarning: `np.bool` is a deprecated alias for the builtin `bool`. To silence this warning, use `bool` by itself. Doing this will not modify any behavior and is safe. If you specifically wanted the numpy scalar type, use `np.bool_` here.\n",
      "Deprecated in NumPy 1.20; for more details and guidance: https://numpy.org/devdocs/release/1.20.0-notes.html#deprecations\n",
      "  A = np.zeros(shape=(num_nodes, num_nodes), dtype=np.bool)\n"
     ]
    }
   ],
   "source": [
    "A_rand_N10   = generate_random_networks(num_nodes=10 , num_edges=1_000)\n",
    "A_rand_N100  = generate_random_networks(num_nodes=100, num_edges=10_000)\n",
    "A_rand_N1k   = generate_random_networks(num_nodes=1000, num_edges=100_000)\n",
    "#A_rand_N10k  = generate_random_networks(num_nodes=10000, num_edges=10_000_000)\n",
    "#A_rand_N100k = generate_random_networks(num_nodes=100000, num_edges=1_000_000)"
   ]
  },
  {
   "cell_type": "code",
   "execution_count": 37,
   "id": "speaking-thumbnail",
   "metadata": {},
   "outputs": [
    {
     "data": {
      "image/png": "[encoded data removed]",
      "text/plain": [
       "<Figure size 288x288 with 1 Axes>"
      ]
     },
     "metadata": {},
     "output_type": "display_data"
    }
   ],
   "source": [
    "#plt.figure(figsize=(4,4), facecolor='w'); \n",
    "f, ax = plt.subplots(figsize=(4,4), facecolor='w')\n",
    "im = ax.imshow(A_rand_N1k, cmap='Greys_r'); \n",
    "#plt.colorbar(im, ax=ax)"
   ]
  },
  {
   "cell_type": "code",
   "execution_count": null,
   "id": "spoken-bracelet",
   "metadata": {},
   "outputs": [],
   "source": []
  },
  {
   "cell_type": "code",
   "execution_count": null,
   "id": "cba62496",
   "metadata": {},
   "outputs": [],
   "source": []
  },
  {
   "cell_type": "code",
   "execution_count": 38,
   "id": "4c6fff8e",
   "metadata": {},
   "outputs": [
    {
     "name": "stderr",
     "output_type": "stream",
     "text": [
      "OMP: Info #276: omp_set_nested routine deprecated, please use omp_set_max_active_levels instead.\n"
     ]
    },
    {
     "data": {
      "text/plain": [
       "6"
      ]
     },
     "execution_count": 38,
     "metadata": {},
     "output_type": "execute_result"
    }
   ],
   "source": [
    "get_num_threads()"
   ]
  },
  {
   "cell_type": "markdown",
   "id": "9629b772",
   "metadata": {},
   "source": [
    "----"
   ]
  },
  {
   "cell_type": "code",
   "execution_count": 137,
   "id": "c86fb010",
   "metadata": {},
   "outputs": [],
   "source": [
    "\n",
    "rep=20"
   ]
  },
  {
   "cell_type": "code",
   "execution_count": 138,
   "id": "transparent-tracy",
   "metadata": {},
   "outputs": [
    {
     "name": "stdout",
     "output_type": "stream",
     "text": [
      "CPU times: user 16 s, sys: 20.1 ms, total: 16 s\n",
      "Wall time: 16 s\n"
     ]
    }
   ],
   "source": [
    "%%time \n",
    "set_num_threads(1)\n",
    "var_N10_summary = get_times(\n",
    "    A=A_rand_N10, \n",
    "    f_degree=node_degree_njit, #node_degree_parallel,\n",
    "    f_tri=get_triangles_per_node,#own_parallel_triangle_comp, \n",
    "    f_clust=node_degree_njit,#parallel_global_clustering_coef, \n",
    "    rep=rep)\n",
    "\n",
    "var_N100_summary = get_times(\n",
    "    A=A_rand_N100, \n",
    "    f_degree=node_degree_njit, # node_degree_parallel, \n",
    "    f_tri=get_triangles_per_node, # own_parallel_triangle_comp, \n",
    "    f_clust=node_degree_njit, # parallel_global_clustering_coef, \n",
    "    rep=rep)\n",
    "\n",
    "var_N1k_summary = get_times(\n",
    "    A=A_rand_N1k, \n",
    "    f_degree=node_degree_njit, #node_degree_parallel, \n",
    "    f_tri=get_triangles_per_node, #own_parallel_triangle_comp, \n",
    "    f_clust=node_degree_njit, #parallel_global_clustering_coef, \n",
    "    rep=rep)\n",
    "\n",
    "_ = \"\"\"\n",
    "    node_degree_parallel\n",
    "    own_parallel_triangle_comp\n",
    "    parallel_global_clustering_coef\n",
    "\"\"\"\n",
    "# var_N10k_summary = get_times(\n",
    "#    A=A_rand_N10k, \n",
    "#    f_degree=node_degree_njit, \n",
    "#    f_tri=get_triangles_per_node, \n",
    "#    f_clust=node_degree_njit, rep=rep)"
   ]
  },
  {
   "cell_type": "code",
   "execution_count": null,
   "id": "cb2cd6ec",
   "metadata": {},
   "outputs": [],
   "source": []
  },
  {
   "cell_type": "code",
   "execution_count": 171,
   "id": "f5751d3d",
   "metadata": {},
   "outputs": [
    {
     "name": "stdout",
     "output_type": "stream",
     "text": [
      "CPU times: user 1min 57s, sys: 23.8 ms, total: 1min 57s\n",
      "Wall time: 1min 57s\n"
     ]
    }
   ],
   "source": [
    "%%time\n",
    "var_N10_summary_nx  = get_times_nx(A=A_rand_N10, rep=rep)\n",
    "var_N100_summary_nx = get_times_nx(A=A_rand_N100, rep=rep)\n",
    "var_N1k_summary_nx  = get_times_nx(A=A_rand_N1k, rep=rep)\n"
   ]
  },
  {
   "cell_type": "code",
   "execution_count": 185,
   "id": "09a8ca05",
   "metadata": {},
   "outputs": [
    {
     "name": "stdout",
     "output_type": "stream",
     "text": [
      "CPU times: user 1min 40s, sys: 24 s, total: 2min 4s\n",
      "Wall time: 1min 32s\n"
     ]
    }
   ],
   "source": [
    "%%time\n",
    "var_N10_summary_gt  = get_times_gt(A=A_rand_N10, rep=rep)\n",
    "var_N100_summary_gt = get_times_gt(A=A_rand_N100, rep=rep)\n",
    "var_N1k_summary_gt  = get_times_gt(A=A_rand_N1k, rep=rep)\n"
   ]
  },
  {
   "cell_type": "code",
   "execution_count": 141,
   "id": "limiting-section",
   "metadata": {},
   "outputs": [],
   "source": [
    "#var_N10_summary"
   ]
  },
  {
   "cell_type": "code",
   "execution_count": 142,
   "id": "convenient-merit",
   "metadata": {},
   "outputs": [],
   "source": [
    "def reshape_summaries(l_summaries, l_N):\n",
    "    new_summaries = {}\n",
    "    for i in range(len(l_summaries)):\n",
    "        new_summaries[l_N[i]] = {\n",
    "            'd' : l_summaries[i]['times']['d'],\n",
    "            't' : l_summaries[i]['times']['t'],\n",
    "            'c' : l_summaries[i]['times']['c'],\n",
    "        }\n",
    "    return new_summaries"
   ]
  },
  {
   "cell_type": "code",
   "execution_count": 143,
   "id": "czech-marketplace",
   "metadata": {},
   "outputs": [],
   "source": [
    "l_N=[10,100,1_000]"
   ]
  },
  {
   "cell_type": "code",
   "execution_count": 172,
   "id": "21b71712",
   "metadata": {},
   "outputs": [
    {
     "name": "stdout",
     "output_type": "stream",
     "text": [
      "CPU times: user 14 µs, sys: 1e+03 ns, total: 15 µs\n",
      "Wall time: 16.7 µs\n"
     ]
    }
   ],
   "source": [
    "%%time\n",
    "N_summaries_nx = reshape_summaries(\n",
    "    l_summaries=[var_N10_summary_nx, var_N100_summary_nx, var_N1k_summary_nx ], \n",
    "    l_N=l_N\n",
    ")"
   ]
  },
  {
   "cell_type": "code",
   "execution_count": 186,
   "id": "significant-display",
   "metadata": {},
   "outputs": [
    {
     "name": "stdout",
     "output_type": "stream",
     "text": [
      "CPU times: user 87 µs, sys: 6 µs, total: 93 µs\n",
      "Wall time: 17.9 µs\n"
     ]
    }
   ],
   "source": [
    "%%time\n",
    "N_summaries_gt = reshape_summaries(\n",
    "    l_summaries=[var_N10_summary_gt, var_N100_summary_gt, var_N1k_summary_gt ], #\n",
    "    l_N=l_N\n",
    ")"
   ]
  },
  {
   "cell_type": "code",
   "execution_count": 146,
   "id": "major-chocolate",
   "metadata": {},
   "outputs": [
    {
     "name": "stdout",
     "output_type": "stream",
     "text": [
      "CPU times: user 158 µs, sys: 8 µs, total: 166 µs\n",
      "Wall time: 36.2 µs\n"
     ]
    }
   ],
   "source": [
    "%%time\n",
    "N_summaries_own = reshape_summaries(\n",
    "    l_summaries=[var_N10_summary, var_N100_summary, var_N1k_summary ], #\n",
    "    l_N=l_N\n",
    ")"
   ]
  },
  {
   "cell_type": "code",
   "execution_count": 147,
   "id": "bcdb74af",
   "metadata": {},
   "outputs": [
    {
     "data": {
      "text/plain": [
       "0.00010723894027429284"
      ]
     },
     "execution_count": 147,
     "metadata": {},
     "output_type": "execute_result"
    }
   ],
   "source": [
    "np.std(N_summaries_own[1000]['c'])"
   ]
  },
  {
   "cell_type": "code",
   "execution_count": 148,
   "id": "insured-visit",
   "metadata": {},
   "outputs": [
    {
     "data": {
      "text/plain": [
       "(25367.973566496068, 11747.096020356536)"
      ]
     },
     "execution_count": 148,
     "metadata": {},
     "output_type": "execute_result"
    }
   ],
   "source": [
    "tmp = (N_summaries_nx[1000]['c'] / N_summaries_own[1000]['c'])\n",
    "np.mean(tmp), np.std(tmp)"
   ]
  },
  {
   "cell_type": "code",
   "execution_count": 173,
   "id": "06f1b6e0",
   "metadata": {},
   "outputs": [
    {
     "data": {
      "text/plain": [
       "array([0.00055003, 0.00080347, 0.00069809, 0.00068188, 0.00067806,\n",
       "       0.00091934, 0.00070643, 0.00072408, 0.00069928, 0.0007031 ,\n",
       "       0.00108528, 0.00073147, 0.00067973, 0.0006988 , 0.00069427,\n",
       "       0.0006876 , 0.00073695, 0.00072622, 0.00069761, 0.00070548])"
      ]
     },
     "execution_count": 173,
     "metadata": {},
     "output_type": "execute_result"
    }
   ],
   "source": [
    "N_summaries_nx[1000]['d']"
   ]
  },
  {
   "cell_type": "code",
   "execution_count": 182,
   "id": "6be3a10f",
   "metadata": {},
   "outputs": [
    {
     "data": {
      "text/plain": [
       "array([1.73807144e-04, 3.09944153e-05, 2.28881836e-05, 4.02927399e-05,\n",
       "       2.31266022e-05, 3.64780426e-05, 6.38961792e-05, 2.43186951e-05,\n",
       "       5.43594360e-05, 4.41074371e-05, 3.12328339e-05, 2.38418579e-05,\n",
       "       3.29017639e-05, 4.05311584e-05, 4.29153442e-05, 2.43186951e-05,\n",
       "       5.41210175e-05, 3.05175781e-05, 4.38690186e-05, 2.50339508e-05])"
      ]
     },
     "execution_count": 182,
     "metadata": {},
     "output_type": "execute_result"
    }
   ],
   "source": [
    "N_summaries_gt[1000]['d']"
   ]
  },
  {
   "cell_type": "code",
   "execution_count": 157,
   "id": "ba9c4e54",
   "metadata": {},
   "outputs": [
    {
     "data": {
      "text/plain": [
       "array([0.00032735, 0.00028133, 0.00024438, 0.00024176, 0.0002501 ,\n",
       "       0.00024343, 0.00024652, 0.00050211, 0.00022173, 0.00024319,\n",
       "       0.0002296 , 0.00023651, 0.00024843, 0.00022483, 0.00034213,\n",
       "       0.0002315 , 0.00025058, 0.00024533, 0.00023127, 0.00024867])"
      ]
     },
     "execution_count": 157,
     "metadata": {},
     "output_type": "execute_result"
    }
   ],
   "source": []
  },
  {
   "cell_type": "code",
   "execution_count": 158,
   "id": "b3183492",
   "metadata": {},
   "outputs": [
    {
     "data": {
      "text/plain": [
       "array([1.63793564e-04, 2.11000443e-04, 2.52008438e-04, 7.41481781e-05,\n",
       "       7.39097595e-05, 7.15255737e-05, 8.67843628e-05, 7.65323639e-05,\n",
       "       2.06708908e-04, 7.17639923e-05, 1.09195709e-04, 7.43865967e-05,\n",
       "       7.41481781e-05, 7.29560852e-05, 2.16007233e-04, 7.48634338e-05,\n",
       "       1.80721283e-04, 7.60555267e-05, 1.81674957e-04, 7.48634338e-05])"
      ]
     },
     "execution_count": 158,
     "metadata": {},
     "output_type": "execute_result"
    }
   ],
   "source": [
    "N_summaries_own[1000]['d']"
   ]
  },
  {
   "cell_type": "code",
   "execution_count": 164,
   "id": "electrical-greece",
   "metadata": {
    "scrolled": true
   },
   "outputs": [
    {
     "data": {
      "image/png": "[encoded data removed]",
      "text/plain": [
       "<Figure size 936x288 with 3 Axes>"
      ]
     },
     "metadata": {},
     "output_type": "display_data"
    }
   ],
   "source": [
    "f, ax = plt.subplots(figsize=(13,4), facecolor='w', nrows=1, ncols=3, sharey=True)\n",
    "l_keys = ['d', 't', 'c']\n",
    "l_titles = ['$d(G)$', '$t(G)$', '$c(G)$']\n",
    "\n",
    "ax[0].set_ylabel(\"Speed-up\", fontsize=14)\n",
    "for i_k in range(len(l_keys)):\n",
    "    tmp_std  = [(np.std (N_summaries_nx[N][l_keys[i_k]][2:] / N_summaries_own[N][l_keys[i_k]][2:])) for N in l_N]\n",
    "    tmp_mean = [np.mean(N_summaries_nx[N][l_keys[i_k]][2:] / N_summaries_own[N][l_keys[i_k]][2:]) for N in l_N]\n",
    "    tmp_std = np.array(tmp_std)\n",
    "    if i_k ==2 :\n",
    "        ax[i_k].errorbar(l_N, tmp_mean, yerr=tmp_std, marker='o', label='NX')\n",
    "    else:\n",
    "        ax[i_k].errorbar(l_N, tmp_mean, yerr=tmp_std, marker='o')\n",
    "        \n",
    "    \n",
    "    tmp_std  = [(np.std (N_summaries_gt[N][l_keys[i_k]][2:] / N_summaries_own[N][l_keys[i_k]][2:])) for N in l_N]\n",
    "    tmp_mean = [np.mean(N_summaries_gt[N][l_keys[i_k]][2:] / N_summaries_own[N][l_keys[i_k]][2:]) for N in l_N]\n",
    "    tmp_std = np.array(tmp_std)\n",
    "    if i_k ==2 :\n",
    "        ax[i_k].errorbar(l_N, tmp_mean, yerr=tmp_std, marker='o', label='GT')\n",
    "    else:\n",
    "        ax[i_k].errorbar(l_N, tmp_mean, yerr=tmp_std, marker='o')\n",
    "        \n",
    "    ax[i_k].set_xlabel(\"$N[LOG]$\", fontsize=14)\n",
    "    ax[i_k].set_ylabel(\"Speed-up [LOG]\", fontsize=14)\n",
    "    ax[i_k].loglog()#semilogx()\n",
    "    ax[i_k].set_title(l_titles[i_k], fontsize=16)\n",
    "    ax[i_k].axhline(1, ls='--', color='k', alpha=0.5)\n",
    "\n",
    "plt.legend(frameon=False)\n",
    "#plt.savefig(\"figs/speedup_fig2.pdf\", bbox_inches='tight')"
   ]
  },
  {
   "cell_type": "code",
   "execution_count": null,
   "id": "fatal-waterproof",
   "metadata": {},
   "outputs": [],
   "source": []
  },
  {
   "cell_type": "markdown",
   "id": "familiar-railway",
   "metadata": {},
   "source": [
    "---"
   ]
  },
  {
   "cell_type": "code",
   "execution_count": null,
   "id": "smoking-stuff",
   "metadata": {},
   "outputs": [],
   "source": []
  },
  {
   "cell_type": "code",
   "execution_count": null,
   "id": "personal-canada",
   "metadata": {},
   "outputs": [],
   "source": []
  },
  {
   "cell_type": "code",
   "execution_count": null,
   "id": "perfect-advantage",
   "metadata": {},
   "outputs": [],
   "source": []
  },
  {
   "cell_type": "code",
   "execution_count": null,
   "id": "christian-seller",
   "metadata": {},
   "outputs": [],
   "source": [
    "plot_comp_times(summaries=[var_N100_summary], method_names=['N100'], own_summary=var_N10_summary, own_abbr='N10')#, measure_name=['d(G)'])"
   ]
  },
  {
   "cell_type": "code",
   "execution_count": null,
   "id": "vital-sarah",
   "metadata": {},
   "outputs": [],
   "source": []
  },
  {
   "cell_type": "code",
   "execution_count": null,
   "id": "surprising-difference",
   "metadata": {},
   "outputs": [],
   "source": []
  },
  {
   "cell_type": "code",
   "execution_count": null,
   "id": "compound-fault",
   "metadata": {},
   "outputs": [],
   "source": [
    "res_avg_node_degree = avg_node_degree(A_rand, rep=10)"
   ]
  },
  {
   "cell_type": "code",
   "execution_count": null,
   "id": "coordinated-astronomy",
   "metadata": {},
   "outputs": [],
   "source": [
    "SU_py_para = res_avg_node_degree['comptimes'][0] / res_avg_node_degree['comptimes'][-1]\n",
    "SU_njit_para = res_avg_node_degree['comptimes'][1] / res_avg_node_degree['comptimes'][-1]"
   ]
  },
  {
   "cell_type": "code",
   "execution_count": null,
   "id": "tutorial-talent",
   "metadata": {
    "scrolled": true
   },
   "outputs": [],
   "source": [
    "print (np.mean(SU_py_para), np.std(SU_py_para))\n",
    "print (np.mean(SU_njit_para), np.std(SU_njit_para))"
   ]
  },
  {
   "cell_type": "code",
   "execution_count": null,
   "id": "frequent-russian",
   "metadata": {},
   "outputs": [],
   "source": [
    "l_N = [1e1, 1e2, 1e3, 1e4, 1e5] #[ 10**i for i in range(4,13)] #[1e2, 1e3, 1e4]"
   ]
  },
  {
   "cell_type": "code",
   "execution_count": null,
   "id": "pretty-structure",
   "metadata": {},
   "outputs": [],
   "source": [
    "%%time\n",
    "l_res_avg_node_degree = []\n",
    "for temp_num_nodes in l_N:#,1e5]:\n",
    "    print (\"generating net\")\n",
    "    A_rand = generate_random_networks(\n",
    "        num_nodes=temp_num_nodes, \n",
    "        num_edges=temp_num_nodes#*50\n",
    "    )\n",
    "    \n",
    "    print (\"computing (%i repetitions)\" % 10)\n",
    "    res_avg_node_degree = avg_node_degree(A_rand, rep=10)\n",
    "    \n",
    "    l_res_avg_node_degree.append( res_avg_node_degree )"
   ]
  },
  {
   "cell_type": "code",
   "execution_count": null,
   "id": "radical-valuation",
   "metadata": {},
   "outputs": [],
   "source": [
    "print (res_avg_node_degree['comptimes'][0] )\n",
    "print (res_avg_node_degree['comptimes'][-1] )"
   ]
  },
  {
   "cell_type": "code",
   "execution_count": null,
   "id": "three-mistress",
   "metadata": {},
   "outputs": [],
   "source": [
    "l_mean_py_para = []; l_std_py_para = []\n",
    "l_mean_njit_para = []; l_std_njit_para = []\n",
    "\n",
    "for i in range(len(l_N)):\n",
    "    i_N = l_N[i]\n",
    "    res_avg_node_degree = l_res_avg_node_degree[i]\n",
    "    \n",
    "    SU_py_para   = res_avg_node_degree['comptimes'][0] / res_avg_node_degree['comptimes'][-1]\n",
    "    SU_njit_para = res_avg_node_degree['comptimes'][1] / res_avg_node_degree['comptimes'][-1]\n",
    "    \n",
    "    l_mean_py_para.append( np.mean(SU_py_para) )\n",
    "    l_std_py_para.append( np.std(SU_py_para) )\n",
    "    l_mean_njit_para.append( np.mean(SU_njit_para) )\n",
    "    l_std_njit_para.append( np.std(SU_njit_para) )"
   ]
  },
  {
   "cell_type": "code",
   "execution_count": null,
   "id": "committed-foundation",
   "metadata": {},
   "outputs": [],
   "source": [
    "fig, ax = plt.subplots(figsize=(4,4), facecolor='w')\n",
    "ax.set_xscale('log', basex=2)\n",
    "ax.set_yscale('log', basey=10)\n",
    "\n",
    "ax.errorbar(l_N, l_mean_py_para  , yerr=l_std_py_para  , color='grey', marker='', ls='--', lw=2.5, label='$SU_{(python, p)}$') #uplims=True, label='uplims=True\n",
    "ax.errorbar(l_N, l_mean_njit_para, yerr=l_std_njit_para, color='k'   , marker='', ls='--', lw=2.5, label='$SU_{(njit, p)}$') \n",
    "\n",
    "#plt.semilogy()\n",
    "ax.set_xscale('log', basex=2)\n",
    "ax.set_yscale('log', basey=2)\n",
    "ax.set_xlabel(\"$N$ [LOG_2]\", fontsize=14)\n",
    "ax.set_ylabel(\"Speed-up $(SU)$ [LOG_10]\", fontsize=14)\n",
    "plt.legend(fontsize=11)"
   ]
  },
  {
   "cell_type": "code",
   "execution_count": null,
   "id": "legitimate-douglas",
   "metadata": {},
   "outputs": [],
   "source": []
  },
  {
   "cell_type": "code",
   "execution_count": null,
   "id": "exact-keyboard",
   "metadata": {},
   "outputs": [],
   "source": []
  },
  {
   "cell_type": "code",
   "execution_count": null,
   "id": "supported-manhattan",
   "metadata": {},
   "outputs": [],
   "source": []
  },
  {
   "cell_type": "code",
   "execution_count": null,
   "id": "vanilla-sailing",
   "metadata": {},
   "outputs": [],
   "source": [
    "len(edges), np.min(edges)"
   ]
  },
  {
   "cell_type": "code",
   "execution_count": null,
   "id": "copyrighted-duration",
   "metadata": {},
   "outputs": [],
   "source": [
    "#plt.figure(figsize=(4,4), facecolor='w'); plt.imshow(A_karate, cmap='Greys_r');"
   ]
  },
  {
   "cell_type": "code",
   "execution_count": null,
   "id": "extensive-instruction",
   "metadata": {},
   "outputs": [],
   "source": [
    "get_num_triangles(A=np.array([\n",
    "    [0,1,0,1],\n",
    "    [1,0,1,1],\n",
    "    [0,1,0,1],\n",
    "    [1,1,1,0]\n",
    "]))"
   ]
  },
  {
   "cell_type": "code",
   "execution_count": null,
   "id": "trained-thousand",
   "metadata": {},
   "outputs": [],
   "source": [
    "A_karate[0,1], A_karate[1,0]"
   ]
  },
  {
   "cell_type": "code",
   "execution_count": null,
   "id": "marked-adobe",
   "metadata": {},
   "outputs": [],
   "source": [
    "print(get_num_triangles(A=A_karate))\n",
    "print(get_num_triangles_parallel(A=A_karate, e_pairs = get_index_pairs(A_karate.shape[0])))"
   ]
  },
  {
   "cell_type": "code",
   "execution_count": null,
   "id": "controversial-invasion",
   "metadata": {},
   "outputs": [],
   "source": [
    "A_karate.shape[0], get_index_pairs(N=A_karate.shape[0]).shape"
   ]
  },
  {
   "cell_type": "code",
   "execution_count": null,
   "id": "impaired-adobe",
   "metadata": {},
   "outputs": [],
   "source": []
  },
  {
   "cell_type": "code",
   "execution_count": null,
   "id": "compound-native",
   "metadata": {},
   "outputs": [],
   "source": [
    "test_complete = np.ones(shape=(10,10), dtype=int)\n",
    "np.fill_diagonal(test_complete, 0)\n",
    "print (test_complete)"
   ]
  },
  {
   "cell_type": "code",
   "execution_count": null,
   "id": "extensive-likelihood",
   "metadata": {},
   "outputs": [],
   "source": [
    "global_clustering_coef(A=np.array([\n",
    "    [0,1,1,1],\n",
    "    [1,0,1,1],\n",
    "    [1,1,0,1],\n",
    "    [1,1,1,0]\n",
    "]))"
   ]
  },
  {
   "cell_type": "code",
   "execution_count": null,
   "id": "precious-window",
   "metadata": {},
   "outputs": [],
   "source": [
    "global_clustering_coef(A=test_complete)"
   ]
  },
  {
   "cell_type": "code",
   "execution_count": null,
   "id": "speaking-cover",
   "metadata": {},
   "outputs": [],
   "source": [
    "int_A_karate = np.asarray(A_karate, dtype=np.int32)\n",
    "(int_A_karate@int_A_karate@int_A_karate).diagonal()//2"
   ]
  },
  {
   "cell_type": "code",
   "execution_count": null,
   "id": "italian-vector",
   "metadata": {},
   "outputs": [],
   "source": [
    "global_clustering_coef(A=A_karate)"
   ]
  },
  {
   "cell_type": "markdown",
   "id": "wired-virus",
   "metadata": {},
   "source": [
    "$c_u = \\frac{2}{deg^{tot}(u)(deg^{tot}(u)-1) - 2deg^{\\leftrightarrow}(u)}\n",
    "             T(u),$\n",
    "             \n",
    "             \n",
    "$c_u = \\frac{2 T(u)}{deg(u)(deg(u)-1)}$"
   ]
  },
  {
   "cell_type": "code",
   "execution_count": null,
   "id": "military-butler",
   "metadata": {},
   "outputs": [],
   "source": [
    "0.2556818181818182*2"
   ]
  },
  {
   "cell_type": "code",
   "execution_count": null,
   "id": "tender-payday",
   "metadata": {},
   "outputs": [],
   "source": [
    "0.5706384782076823*3"
   ]
  },
  {
   "cell_type": "code",
   "execution_count": null,
   "id": "premier-fiction",
   "metadata": {},
   "outputs": [],
   "source": []
  },
  {
   "cell_type": "code",
   "execution_count": null,
   "id": "progressive-channels",
   "metadata": {},
   "outputs": [],
   "source": []
  },
  {
   "cell_type": "code",
   "execution_count": null,
   "id": "meaningful-simulation",
   "metadata": {},
   "outputs": [],
   "source": [
    "own_triangle_comp(A=np.array([\n",
    "    [0,1,0,1],\n",
    "    [1,0,1,1],\n",
    "    [0,1,0,1],\n",
    "    [1,1,1,0]\n",
    "]))"
   ]
  },
  {
   "cell_type": "code",
   "execution_count": null,
   "id": "structural-hunter",
   "metadata": {
    "scrolled": true
   },
   "outputs": [],
   "source": [
    "own_triangle_comp(A_karate)"
   ]
  },
  {
   "cell_type": "code",
   "execution_count": null,
   "id": "speaking-median",
   "metadata": {},
   "outputs": [],
   "source": [
    "res_avg_node_degree = avg_node_degree(A_karate, rep=10)"
   ]
  },
  {
   "cell_type": "code",
   "execution_count": null,
   "id": "established-thursday",
   "metadata": {},
   "outputs": [],
   "source": []
  },
  {
   "cell_type": "code",
   "execution_count": null,
   "id": "secure-alcohol",
   "metadata": {},
   "outputs": [],
   "source": [
    "plot_avg_node_degree()"
   ]
  },
  {
   "cell_type": "code",
   "execution_count": null,
   "id": "narrative-theology",
   "metadata": {},
   "outputs": [],
   "source": []
  },
  {
   "cell_type": "code",
   "execution_count": null,
   "id": "explicit-place",
   "metadata": {},
   "outputs": [],
   "source": []
  },
  {
   "cell_type": "code",
   "execution_count": null,
   "id": "cross-thirty",
   "metadata": {},
   "outputs": [],
   "source": []
  },
  {
   "cell_type": "markdown",
   "id": "respective-seating",
   "metadata": {},
   "source": [
    "#### Networkx\n",
    "\n",
    "```python\n",
    "import networkx as nx\n",
    "A = np.matrix([\n",
    "\t[0,1,0,0,0],\n",
    "\t[1,0,1,0,0],\n",
    "\t[0,1,0,1,1],\n",
    "\t[0,0,1,0,1],\n",
    "\t[0,0,1,1,0]\n",
    "])\n",
    "MyGraph = nx.from_numpy_matrix(A)\n",
    "nx.draw(MyGraph)\n",
    "```\n",
    "\n",
    "\n",
    "#### Graph-tools\n",
    "\n",
    "```python\n",
    "import graph_tool as gt\n",
    "g = gt.Graph(directed=False)\n",
    "g.add_edge_list(transpose(transpose(adj).nonzero()))\n",
    "```"
   ]
  },
  {
   "cell_type": "code",
   "execution_count": null,
   "id": "varied-institution",
   "metadata": {},
   "outputs": [],
   "source": []
  },
  {
   "cell_type": "code",
   "execution_count": null,
   "id": "6da7f0c3",
   "metadata": {},
   "outputs": [],
   "source": [
    "#--------------------------------------------------------------------------------------------------"
   ]
  },
  {
   "cell_type": "code",
   "execution_count": null,
   "id": "382626f2",
   "metadata": {},
   "outputs": [],
   "source": []
  },
  {
   "cell_type": "code",
   "execution_count": null,
   "id": "58a355f5",
   "metadata": {},
   "outputs": [],
   "source": [
    "get_num_threads()"
   ]
  },
  {
   "cell_type": "code",
   "execution_count": null,
   "id": "f19dba3f",
   "metadata": {},
   "outputs": [],
   "source": [
    "# CAMBIAR\n",
    "l_threads = [1, 2, 3, 4, 5, 6]\n",
    "l_threads"
   ]
  },
  {
   "cell_type": "code",
   "execution_count": null,
   "id": "731b6d1e",
   "metadata": {},
   "outputs": [],
   "source": []
  },
  {
   "cell_type": "code",
   "execution_count": null,
   "id": "93858770",
   "metadata": {},
   "outputs": [],
   "source": [
    "rep = 20"
   ]
  },
  {
   "cell_type": "code",
   "execution_count": null,
   "id": "7a6fe312",
   "metadata": {},
   "outputs": [],
   "source": [
    "d_summaries = {}\n",
    "for i in range(len(l_threads)):\n",
    "    i_th = l_threads[i]\n",
    "    print (\"%i cores\" % get_num_threads())\n",
    "    set_num_threads(i_th)\n",
    "    d_summaries[i_th] = get_times(\n",
    "        A=A_rand_N1k, \n",
    "        f_degree=avg_node_degree_parallel, \n",
    "        f_tri=own_parallel_triangle_comp, \n",
    "        f_clust=parallel_global_clustering_coef, rep=rep\n",
    "    )"
   ]
  },
  {
   "cell_type": "code",
   "execution_count": null,
   "id": "92add132",
   "metadata": {},
   "outputs": [],
   "source": [
    "def last_plot():\n",
    "    l_mean = []; l_std = [];\n",
    "    for i_th in l_threads[1:]:\n",
    "        tmp_times = (d_summaries[1]['times']['d'][2:] / d_summaries[i_th]['times']['d'][2:])\n",
    "        tmp_mean = np.mean(tmp_times)\n",
    "        tmp_std  = np.std(tmp_times)\n",
    "        print (tmp_mean, tmp_std)\n",
    "        l_mean.append(tmp_mean)\n",
    "        l_std.append(tmp_std)\n",
    "    \n",
    "    f, ax = plt.subplots(figsize=(4,4), facecolor='w')\n",
    "    ax.errorbar(l_threads[1:], l_mean, yerr=l_std)\n",
    "    ax.set_xticks(l_threads[1:])\n",
    "    #ax.set_xscale('log', basex=2)\n",
    "    ax.set_xlabel(\"# threads\", fontsize=14)\n",
    "    ax.set_ylabel(r\"eficiencia = $\\frac{T_{1}}{T_{i}}$\", fontsize=14)# , i \\in {2,4,8,16}\n",
    "    plt.savefig(\"figs/eficiencia_fig3.pdf\", bbox_inches='tight')\n",
    "    \n",
    "last_plot()"
   ]
  },
  {
   "cell_type": "code",
   "execution_count": null,
   "id": "42876ca1",
   "metadata": {},
   "outputs": [],
   "source": []
  },
  {
   "cell_type": "code",
   "execution_count": null,
   "id": "2666834d",
   "metadata": {},
   "outputs": [],
   "source": []
  },
  {
   "cell_type": "code",
   "execution_count": null,
   "id": "b6d55d41",
   "metadata": {},
   "outputs": [],
   "source": []
  }
 ],
 "metadata": {
  "kernelspec": {
   "display_name": "hpc_work",
   "language": "python",
   "name": "hpc_work"
  },
  "language_info": {
   "codemirror_mode": {
    "name": "ipython",
    "version": 3
   },
   "file_extension": ".py",
   "mimetype": "text/x-python",
   "name": "python",
   "nbconvert_exporter": "python",
   "pygments_lexer": "ipython3",
   "version": "3.10.5"
  }
 },
 "nbformat": 4,
 "nbformat_minor": 5
}
